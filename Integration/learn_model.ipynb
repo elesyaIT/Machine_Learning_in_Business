{
  "nbformat": 4,
  "nbformat_minor": 0,
  "metadata": {
    "colab": {
      "name": "learn_model.ipynb",
      "provenance": [],
      "collapsed_sections": [],
      "toc_visible": true
    },
    "kernelspec": {
      "name": "python3",
      "display_name": "Python 3"
    },
    "language_info": {
      "name": "python"
    }
  },
  "cells": [
    {
      "cell_type": "code",
      "source": [
        "# !wget 'https://drive.google.com/uc?export=download&id=1oPtTtVbkSEdiNwjcSHeEkv_C9g0yfLVO' -O train.csv"
      ],
      "metadata": {
        "id": "ZTIlNMUb130-",
        "colab": {
          "base_uri": "https://localhost:8080/"
        },
        "outputId": "64c99964-5810-4180-95b3-383dda6a0997"
      },
      "execution_count": 1,
      "outputs": [
        {
          "output_type": "stream",
          "name": "stdout",
          "text": [
            "--2022-04-20 14:20:26--  https://drive.google.com/uc?export=download&id=1oPtTtVbkSEdiNwjcSHeEkv_C9g0yfLVO\n",
            "Resolving drive.google.com (drive.google.com)... 142.250.152.139, 142.250.152.138, 142.250.152.100, ...\n",
            "Connecting to drive.google.com (drive.google.com)|142.250.152.139|:443... connected.\n",
            "HTTP request sent, awaiting response... 303 See Other\n",
            "Location: https://doc-04-c0-docs.googleusercontent.com/docs/securesc/ha0ro937gcuc7l7deffksulhg5h7mbp1/svqfplkoe4c6sebkelvq8g4m2r8ihrd6/1650464400000/14904333240138417226/*/1oPtTtVbkSEdiNwjcSHeEkv_C9g0yfLVO?e=download [following]\n",
            "Warning: wildcards not supported in HTTP.\n",
            "--2022-04-20 14:20:29--  https://doc-04-c0-docs.googleusercontent.com/docs/securesc/ha0ro937gcuc7l7deffksulhg5h7mbp1/svqfplkoe4c6sebkelvq8g4m2r8ihrd6/1650464400000/14904333240138417226/*/1oPtTtVbkSEdiNwjcSHeEkv_C9g0yfLVO?e=download\n",
            "Resolving doc-04-c0-docs.googleusercontent.com (doc-04-c0-docs.googleusercontent.com)... 142.250.152.132, 2607:f8b0:4001:c56::84\n",
            "Connecting to doc-04-c0-docs.googleusercontent.com (doc-04-c0-docs.googleusercontent.com)|142.250.152.132|:443... connected.\n",
            "HTTP request sent, awaiting response... 200 OK\n",
            "Length: 68802655 (66M) [text/csv]\n",
            "Saving to: ‘train.csv’\n",
            "\n",
            "train.csv           100%[===================>]  65.62M   123MB/s    in 0.5s    \n",
            "\n",
            "2022-04-20 14:20:30 (123 MB/s) - ‘train.csv’ saved [68802655/68802655]\n",
            "\n"
          ]
        }
      ]
    },
    {
      "cell_type": "markdown",
      "source": [
        "## Step_1 Обучаем модель"
      ],
      "metadata": {
        "id": "19KO5BKeAktm"
      }
    },
    {
      "cell_type": "code",
      "execution_count": 29,
      "metadata": {
        "id": "Pcu0W_gT1MWm",
        "colab": {
          "base_uri": "https://localhost:8080/",
          "height": 143
        },
        "outputId": "0f0e6f2a-7605-41f2-d1a0-3474b7ea3ffd"
      },
      "outputs": [
        {
          "output_type": "execute_result",
          "data": {
            "text/plain": [
              "                      id                                       comment_text  \\\n",
              "92475   f744b95831a09bcd  \"\\n\\nPeg Entwistle Suicide\\n\\nIn the article i...   \n",
              "151334  7b6ceddc66f8eb9f  Have you got a reliable source ?  Bear in mind...   \n",
              "78832   d2f0c46908a9a910  Good call! The statements would have to be pre...   \n",
              "\n",
              "        toxic  severe_toxic  obscene  threat  insult  identity_hate  \n",
              "92475       0             0        0       0       0              0  \n",
              "151334      0             0        0       0       0              0  \n",
              "78832       0             0        0       0       0              0  "
            ],
            "text/html": [
              "\n",
              "  <div id=\"df-286b29d2-bd84-4477-8d85-c45a7a1db4b2\">\n",
              "    <div class=\"colab-df-container\">\n",
              "      <div>\n",
              "<style scoped>\n",
              "    .dataframe tbody tr th:only-of-type {\n",
              "        vertical-align: middle;\n",
              "    }\n",
              "\n",
              "    .dataframe tbody tr th {\n",
              "        vertical-align: top;\n",
              "    }\n",
              "\n",
              "    .dataframe thead th {\n",
              "        text-align: right;\n",
              "    }\n",
              "</style>\n",
              "<table border=\"1\" class=\"dataframe\">\n",
              "  <thead>\n",
              "    <tr style=\"text-align: right;\">\n",
              "      <th></th>\n",
              "      <th>id</th>\n",
              "      <th>comment_text</th>\n",
              "      <th>toxic</th>\n",
              "      <th>severe_toxic</th>\n",
              "      <th>obscene</th>\n",
              "      <th>threat</th>\n",
              "      <th>insult</th>\n",
              "      <th>identity_hate</th>\n",
              "    </tr>\n",
              "  </thead>\n",
              "  <tbody>\n",
              "    <tr>\n",
              "      <th>92475</th>\n",
              "      <td>f744b95831a09bcd</td>\n",
              "      <td>\"\\n\\nPeg Entwistle Suicide\\n\\nIn the article i...</td>\n",
              "      <td>0</td>\n",
              "      <td>0</td>\n",
              "      <td>0</td>\n",
              "      <td>0</td>\n",
              "      <td>0</td>\n",
              "      <td>0</td>\n",
              "    </tr>\n",
              "    <tr>\n",
              "      <th>151334</th>\n",
              "      <td>7b6ceddc66f8eb9f</td>\n",
              "      <td>Have you got a reliable source ?  Bear in mind...</td>\n",
              "      <td>0</td>\n",
              "      <td>0</td>\n",
              "      <td>0</td>\n",
              "      <td>0</td>\n",
              "      <td>0</td>\n",
              "      <td>0</td>\n",
              "    </tr>\n",
              "    <tr>\n",
              "      <th>78832</th>\n",
              "      <td>d2f0c46908a9a910</td>\n",
              "      <td>Good call! The statements would have to be pre...</td>\n",
              "      <td>0</td>\n",
              "      <td>0</td>\n",
              "      <td>0</td>\n",
              "      <td>0</td>\n",
              "      <td>0</td>\n",
              "      <td>0</td>\n",
              "    </tr>\n",
              "  </tbody>\n",
              "</table>\n",
              "</div>\n",
              "      <button class=\"colab-df-convert\" onclick=\"convertToInteractive('df-286b29d2-bd84-4477-8d85-c45a7a1db4b2')\"\n",
              "              title=\"Convert this dataframe to an interactive table.\"\n",
              "              style=\"display:none;\">\n",
              "        \n",
              "  <svg xmlns=\"http://www.w3.org/2000/svg\" height=\"24px\"viewBox=\"0 0 24 24\"\n",
              "       width=\"24px\">\n",
              "    <path d=\"M0 0h24v24H0V0z\" fill=\"none\"/>\n",
              "    <path d=\"M18.56 5.44l.94 2.06.94-2.06 2.06-.94-2.06-.94-.94-2.06-.94 2.06-2.06.94zm-11 1L8.5 8.5l.94-2.06 2.06-.94-2.06-.94L8.5 2.5l-.94 2.06-2.06.94zm10 10l.94 2.06.94-2.06 2.06-.94-2.06-.94-.94-2.06-.94 2.06-2.06.94z\"/><path d=\"M17.41 7.96l-1.37-1.37c-.4-.4-.92-.59-1.43-.59-.52 0-1.04.2-1.43.59L10.3 9.45l-7.72 7.72c-.78.78-.78 2.05 0 2.83L4 21.41c.39.39.9.59 1.41.59.51 0 1.02-.2 1.41-.59l7.78-7.78 2.81-2.81c.8-.78.8-2.07 0-2.86zM5.41 20L4 18.59l7.72-7.72 1.47 1.35L5.41 20z\"/>\n",
              "  </svg>\n",
              "      </button>\n",
              "      \n",
              "  <style>\n",
              "    .colab-df-container {\n",
              "      display:flex;\n",
              "      flex-wrap:wrap;\n",
              "      gap: 12px;\n",
              "    }\n",
              "\n",
              "    .colab-df-convert {\n",
              "      background-color: #E8F0FE;\n",
              "      border: none;\n",
              "      border-radius: 50%;\n",
              "      cursor: pointer;\n",
              "      display: none;\n",
              "      fill: #1967D2;\n",
              "      height: 32px;\n",
              "      padding: 0 0 0 0;\n",
              "      width: 32px;\n",
              "    }\n",
              "\n",
              "    .colab-df-convert:hover {\n",
              "      background-color: #E2EBFA;\n",
              "      box-shadow: 0px 1px 2px rgba(60, 64, 67, 0.3), 0px 1px 3px 1px rgba(60, 64, 67, 0.15);\n",
              "      fill: #174EA6;\n",
              "    }\n",
              "\n",
              "    [theme=dark] .colab-df-convert {\n",
              "      background-color: #3B4455;\n",
              "      fill: #D2E3FC;\n",
              "    }\n",
              "\n",
              "    [theme=dark] .colab-df-convert:hover {\n",
              "      background-color: #434B5C;\n",
              "      box-shadow: 0px 1px 3px 1px rgba(0, 0, 0, 0.15);\n",
              "      filter: drop-shadow(0px 1px 2px rgba(0, 0, 0, 0.3));\n",
              "      fill: #FFFFFF;\n",
              "    }\n",
              "  </style>\n",
              "\n",
              "      <script>\n",
              "        const buttonEl =\n",
              "          document.querySelector('#df-286b29d2-bd84-4477-8d85-c45a7a1db4b2 button.colab-df-convert');\n",
              "        buttonEl.style.display =\n",
              "          google.colab.kernel.accessAllowed ? 'block' : 'none';\n",
              "\n",
              "        async function convertToInteractive(key) {\n",
              "          const element = document.querySelector('#df-286b29d2-bd84-4477-8d85-c45a7a1db4b2');\n",
              "          const dataTable =\n",
              "            await google.colab.kernel.invokeFunction('convertToInteractive',\n",
              "                                                     [key], {});\n",
              "          if (!dataTable) return;\n",
              "\n",
              "          const docLinkHtml = 'Like what you see? Visit the ' +\n",
              "            '<a target=\"_blank\" href=https://colab.research.google.com/notebooks/data_table.ipynb>data table notebook</a>'\n",
              "            + ' to learn more about interactive tables.';\n",
              "          element.innerHTML = '';\n",
              "          dataTable['output_type'] = 'display_data';\n",
              "          await google.colab.output.renderOutput(dataTable, element);\n",
              "          const docLink = document.createElement('div');\n",
              "          docLink.innerHTML = docLinkHtml;\n",
              "          element.appendChild(docLink);\n",
              "        }\n",
              "      </script>\n",
              "    </div>\n",
              "  </div>\n",
              "  "
            ]
          },
          "metadata": {},
          "execution_count": 29
        }
      ],
      "source": [
        "import numpy as np\n",
        "import pandas as pd\n",
        "\n",
        "from sklearn.feature_extraction.text import TfidfVectorizer\n",
        "from sklearn.linear_model import LogisticRegression\n",
        "from sklearn.model_selection import cross_val_score, train_test_split\n",
        "from scipy.sparse import hstack\n",
        "from sklearn.pipeline import Pipeline, make_pipeline\n",
        "from sklearn.base import BaseEstimator, TransformerMixin\n",
        "\n",
        "class_names = ['toxic', 'severe_toxic', 'obscene', 'threat', 'insult', 'identity_hate']\n",
        "\n",
        "train = pd.read_csv('train.csv').fillna(' ').sample(frac=1)\n",
        "train.head(3)"
      ]
    },
    {
      "cell_type": "markdown",
      "source": [
        "Здесь много разных вариантов, но мы сведем все к бинарному классу - toxic/nontoxic"
      ],
      "metadata": {
        "id": "s8oF_o0n8-4Z"
      }
    },
    {
      "cell_type": "code",
      "source": [
        "train['y'] = train[class_names].max(axis=1).values\n",
        "train['y'].value_counts()"
      ],
      "metadata": {
        "id": "qmH8_n3G9Ctm",
        "colab": {
          "base_uri": "https://localhost:8080/"
        },
        "outputId": "bcff9817-4a18-43e4-b101-034ab4d79966"
      },
      "execution_count": 30,
      "outputs": [
        {
          "output_type": "execute_result",
          "data": {
            "text/plain": [
              "0    143346\n",
              "1     16225\n",
              "Name: y, dtype: int64"
            ]
          },
          "metadata": {},
          "execution_count": 30
        }
      ]
    },
    {
      "cell_type": "markdown",
      "source": [
        "Сделаем тренировочную и тестовую выборки"
      ],
      "metadata": {
        "id": "Ml_tsAmw9ICo"
      }
    },
    {
      "cell_type": "code",
      "source": [
        "# разделим данные на train/test\n",
        "X_train, X_test, y_train, y_test = train_test_split(train.drop(columns='y'), \n",
        "                                                    train['y'], test_size=0.33, random_state=0)\n",
        "\n",
        "# save test\n",
        "\n",
        "X_test.to_csv(\"X_test.csv\", index=None)\n",
        "\n",
        "y_test.to_csv(\"y_test.csv\", index=None)\n",
        "\n",
        "# save train\n",
        "\n",
        "X_train.to_csv(\"X_train.csv\", index=None)\n",
        "\n",
        "y_train.to_csv(\"y_train.csv\", index=None)"
      ],
      "metadata": {
        "id": "Zr1eohNd9PFc"
      },
      "execution_count": 31,
      "outputs": []
    },
    {
      "cell_type": "markdown",
      "source": [
        "Посмотрим на распределение классов в выборках"
      ],
      "metadata": {
        "id": "kEEds9X99R4h"
      }
    },
    {
      "cell_type": "code",
      "source": [
        "y_train.value_counts(normalize=True)"
      ],
      "metadata": {
        "id": "cKoI0_yw-E8j",
        "colab": {
          "base_uri": "https://localhost:8080/"
        },
        "outputId": "23c9d1b8-62b1-4023-841c-783704b7b222"
      },
      "execution_count": 32,
      "outputs": [
        {
          "output_type": "execute_result",
          "data": {
            "text/plain": [
              "0    0.898103\n",
              "1    0.101897\n",
              "Name: y, dtype: float64"
            ]
          },
          "metadata": {},
          "execution_count": 32
        }
      ]
    },
    {
      "cell_type": "code",
      "source": [
        "y_test.value_counts(normalize=True)"
      ],
      "metadata": {
        "id": "YRRfN4vg-G0o",
        "colab": {
          "base_uri": "https://localhost:8080/"
        },
        "outputId": "0b9acecd-0958-43d2-c0b4-d2e1309ec8b9"
      },
      "execution_count": 33,
      "outputs": [
        {
          "output_type": "execute_result",
          "data": {
            "text/plain": [
              "0    0.898764\n",
              "1    0.101236\n",
              "Name: y, dtype: float64"
            ]
          },
          "metadata": {},
          "execution_count": 33
        }
      ]
    },
    {
      "cell_type": "markdown",
      "source": [
        "Построим простое векторное представление текстов и обучим логистическую регрессию\n"
      ],
      "metadata": {
        "id": "szUhZ102-JRA"
      }
    },
    {
      "cell_type": "code",
      "source": [
        "%%time\n",
        "# соберем наш простой pipeline, но нам понадобится написать класс для выбора нужного поля\n",
        "class FeatureSelector(BaseEstimator, TransformerMixin):\n",
        "    def __init__(self, column):\n",
        "        self.column = column\n",
        "\n",
        "    def fit(self, X, y=None):\n",
        "        return self\n",
        "\n",
        "    def transform(self, X, y=None):\n",
        "        return X[self.column]\n",
        "\n",
        "classifier = Pipeline([('comment_text', FeatureSelector(column='comment_text')), \n",
        "                       ('comment_text_tfidf', TfidfVectorizer(strip_accents='unicode',\n",
        "                                                              analyzer='word',\n",
        "                                                              token_pattern=r'\\w{1,}',\n",
        "                                                              stop_words='english',\n",
        "                                                              max_features=10000)), \n",
        "                       ('clf', LogisticRegression(C=0.1))])\n",
        "\n",
        "# запустим кросс-валидацию\n",
        "cv_scores = cross_val_score(classifier, X_train, y_train, cv=3, scoring='roc_auc')\n",
        "cv_score = np.mean(cv_scores)\n",
        "print(f'CV score is {cv_score}')\n",
        "\n",
        "# обучим пайплайн на всем тренировочном датасете\n",
        "classifier.fit(X_train, y_train)\n",
        "y_score = classifier.predict_proba(X_test)[:, 1]"
      ],
      "metadata": {
        "id": "VH35KO62-O5L",
        "colab": {
          "base_uri": "https://localhost:8080/"
        },
        "outputId": "0dad357b-6a3b-4db1-8c56-d80897ad0b51"
      },
      "execution_count": 34,
      "outputs": [
        {
          "output_type": "stream",
          "name": "stdout",
          "text": [
            "CV score is 0.9535864064597713\n",
            "CPU times: user 37 s, sys: 4.26 s, total: 41.3 s\n",
            "Wall time: 36.6 s\n"
          ]
        }
      ]
    },
    {
      "cell_type": "code",
      "source": [
        "classifier.steps"
      ],
      "metadata": {
        "id": "Mo88jKnZ-bpl",
        "colab": {
          "base_uri": "https://localhost:8080/"
        },
        "outputId": "f93b498a-ab04-4e2f-aab9-8cdec3104a7f"
      },
      "execution_count": 35,
      "outputs": [
        {
          "output_type": "execute_result",
          "data": {
            "text/plain": [
              "[('comment_text', FeatureSelector(column='comment_text')),\n",
              " ('comment_text_tfidf',\n",
              "  TfidfVectorizer(max_features=10000, stop_words='english',\n",
              "                  strip_accents='unicode', token_pattern='\\\\w{1,}')),\n",
              " ('clf', LogisticRegression(C=0.1))]"
            ]
          },
          "metadata": {},
          "execution_count": 35
        }
      ]
    },
    {
      "cell_type": "markdown",
      "source": [
        "Сохраним модель (пайплайн)"
      ],
      "metadata": {
        "id": "mXrc4Exw_TVQ"
      }
    },
    {
      "cell_type": "code",
      "source": [
        "import dill\n",
        "with open(\"logreg_pipeline.dill\", \"wb\") as f:\n",
        "    dill.dump(classifier, f)"
      ],
      "metadata": {
        "id": "eZekI9CZ_c9t"
      },
      "execution_count": 36,
      "outputs": []
    },
    {
      "cell_type": "markdown",
      "source": [
        "# Step 2 - PREDICT"
      ],
      "metadata": {
        "id": "Ls0Ae5Ll_kpN"
      }
    },
    {
      "cell_type": "markdown",
      "source": [
        "### Проверка работоспособности и качества пайплайна\n",
        "\n",
        "Здесь мы еще не запускаем никакое API, а загружаем модель (pipeline) напрямую и проверяем на отложенной (тестовой) выборке"
      ],
      "metadata": {
        "id": "BCma8PndA2zD"
      }
    },
    {
      "cell_type": "code",
      "source": [
        "X_test = pd.read_csv(\"X_test.csv\")\n",
        "y_test = pd.read_csv(\"y_test.csv\")"
      ],
      "metadata": {
        "id": "dBRpKNE7BBWQ"
      },
      "execution_count": 37,
      "outputs": []
    },
    {
      "cell_type": "code",
      "source": [
        "X_test.head(3)"
      ],
      "metadata": {
        "id": "BY55mDkqBES-",
        "colab": {
          "base_uri": "https://localhost:8080/",
          "height": 143
        },
        "outputId": "a5bba630-feaf-47ce-9eae-fbe3fd81e3bb"
      },
      "execution_count": 38,
      "outputs": [
        {
          "output_type": "execute_result",
          "data": {
            "text/plain": [
              "                 id                                       comment_text  toxic  \\\n",
              "0  075e64b2bd0ff46f  \"\\n\\nFlora: Yes...but I think I can find a way...      0   \n",
              "1  3b20462c2f25635d  Regarding Your Question\\nRegarding your questi...      0   \n",
              "2  77a723e8d6a1de64                     Fuck you you dumb sack of shit      1   \n",
              "\n",
              "   severe_toxic  obscene  threat  insult  identity_hate  \n",
              "0             0        0       0       0              0  \n",
              "1             0        0       0       0              0  \n",
              "2             1        1       0       1              0  "
            ],
            "text/html": [
              "\n",
              "  <div id=\"df-f170e27a-4a1e-4f9a-ba85-b43790109e52\">\n",
              "    <div class=\"colab-df-container\">\n",
              "      <div>\n",
              "<style scoped>\n",
              "    .dataframe tbody tr th:only-of-type {\n",
              "        vertical-align: middle;\n",
              "    }\n",
              "\n",
              "    .dataframe tbody tr th {\n",
              "        vertical-align: top;\n",
              "    }\n",
              "\n",
              "    .dataframe thead th {\n",
              "        text-align: right;\n",
              "    }\n",
              "</style>\n",
              "<table border=\"1\" class=\"dataframe\">\n",
              "  <thead>\n",
              "    <tr style=\"text-align: right;\">\n",
              "      <th></th>\n",
              "      <th>id</th>\n",
              "      <th>comment_text</th>\n",
              "      <th>toxic</th>\n",
              "      <th>severe_toxic</th>\n",
              "      <th>obscene</th>\n",
              "      <th>threat</th>\n",
              "      <th>insult</th>\n",
              "      <th>identity_hate</th>\n",
              "    </tr>\n",
              "  </thead>\n",
              "  <tbody>\n",
              "    <tr>\n",
              "      <th>0</th>\n",
              "      <td>075e64b2bd0ff46f</td>\n",
              "      <td>\"\\n\\nFlora: Yes...but I think I can find a way...</td>\n",
              "      <td>0</td>\n",
              "      <td>0</td>\n",
              "      <td>0</td>\n",
              "      <td>0</td>\n",
              "      <td>0</td>\n",
              "      <td>0</td>\n",
              "    </tr>\n",
              "    <tr>\n",
              "      <th>1</th>\n",
              "      <td>3b20462c2f25635d</td>\n",
              "      <td>Regarding Your Question\\nRegarding your questi...</td>\n",
              "      <td>0</td>\n",
              "      <td>0</td>\n",
              "      <td>0</td>\n",
              "      <td>0</td>\n",
              "      <td>0</td>\n",
              "      <td>0</td>\n",
              "    </tr>\n",
              "    <tr>\n",
              "      <th>2</th>\n",
              "      <td>77a723e8d6a1de64</td>\n",
              "      <td>Fuck you you dumb sack of shit</td>\n",
              "      <td>1</td>\n",
              "      <td>1</td>\n",
              "      <td>1</td>\n",
              "      <td>0</td>\n",
              "      <td>1</td>\n",
              "      <td>0</td>\n",
              "    </tr>\n",
              "  </tbody>\n",
              "</table>\n",
              "</div>\n",
              "      <button class=\"colab-df-convert\" onclick=\"convertToInteractive('df-f170e27a-4a1e-4f9a-ba85-b43790109e52')\"\n",
              "              title=\"Convert this dataframe to an interactive table.\"\n",
              "              style=\"display:none;\">\n",
              "        \n",
              "  <svg xmlns=\"http://www.w3.org/2000/svg\" height=\"24px\"viewBox=\"0 0 24 24\"\n",
              "       width=\"24px\">\n",
              "    <path d=\"M0 0h24v24H0V0z\" fill=\"none\"/>\n",
              "    <path d=\"M18.56 5.44l.94 2.06.94-2.06 2.06-.94-2.06-.94-.94-2.06-.94 2.06-2.06.94zm-11 1L8.5 8.5l.94-2.06 2.06-.94-2.06-.94L8.5 2.5l-.94 2.06-2.06.94zm10 10l.94 2.06.94-2.06 2.06-.94-2.06-.94-.94-2.06-.94 2.06-2.06.94z\"/><path d=\"M17.41 7.96l-1.37-1.37c-.4-.4-.92-.59-1.43-.59-.52 0-1.04.2-1.43.59L10.3 9.45l-7.72 7.72c-.78.78-.78 2.05 0 2.83L4 21.41c.39.39.9.59 1.41.59.51 0 1.02-.2 1.41-.59l7.78-7.78 2.81-2.81c.8-.78.8-2.07 0-2.86zM5.41 20L4 18.59l7.72-7.72 1.47 1.35L5.41 20z\"/>\n",
              "  </svg>\n",
              "      </button>\n",
              "      \n",
              "  <style>\n",
              "    .colab-df-container {\n",
              "      display:flex;\n",
              "      flex-wrap:wrap;\n",
              "      gap: 12px;\n",
              "    }\n",
              "\n",
              "    .colab-df-convert {\n",
              "      background-color: #E8F0FE;\n",
              "      border: none;\n",
              "      border-radius: 50%;\n",
              "      cursor: pointer;\n",
              "      display: none;\n",
              "      fill: #1967D2;\n",
              "      height: 32px;\n",
              "      padding: 0 0 0 0;\n",
              "      width: 32px;\n",
              "    }\n",
              "\n",
              "    .colab-df-convert:hover {\n",
              "      background-color: #E2EBFA;\n",
              "      box-shadow: 0px 1px 2px rgba(60, 64, 67, 0.3), 0px 1px 3px 1px rgba(60, 64, 67, 0.15);\n",
              "      fill: #174EA6;\n",
              "    }\n",
              "\n",
              "    [theme=dark] .colab-df-convert {\n",
              "      background-color: #3B4455;\n",
              "      fill: #D2E3FC;\n",
              "    }\n",
              "\n",
              "    [theme=dark] .colab-df-convert:hover {\n",
              "      background-color: #434B5C;\n",
              "      box-shadow: 0px 1px 3px 1px rgba(0, 0, 0, 0.15);\n",
              "      filter: drop-shadow(0px 1px 2px rgba(0, 0, 0, 0.3));\n",
              "      fill: #FFFFFF;\n",
              "    }\n",
              "  </style>\n",
              "\n",
              "      <script>\n",
              "        const buttonEl =\n",
              "          document.querySelector('#df-f170e27a-4a1e-4f9a-ba85-b43790109e52 button.colab-df-convert');\n",
              "        buttonEl.style.display =\n",
              "          google.colab.kernel.accessAllowed ? 'block' : 'none';\n",
              "\n",
              "        async function convertToInteractive(key) {\n",
              "          const element = document.querySelector('#df-f170e27a-4a1e-4f9a-ba85-b43790109e52');\n",
              "          const dataTable =\n",
              "            await google.colab.kernel.invokeFunction('convertToInteractive',\n",
              "                                                     [key], {});\n",
              "          if (!dataTable) return;\n",
              "\n",
              "          const docLinkHtml = 'Like what you see? Visit the ' +\n",
              "            '<a target=\"_blank\" href=https://colab.research.google.com/notebooks/data_table.ipynb>data table notebook</a>'\n",
              "            + ' to learn more about interactive tables.';\n",
              "          element.innerHTML = '';\n",
              "          dataTable['output_type'] = 'display_data';\n",
              "          await google.colab.output.renderOutput(dataTable, element);\n",
              "          const docLink = document.createElement('div');\n",
              "          docLink.innerHTML = docLinkHtml;\n",
              "          element.appendChild(docLink);\n",
              "        }\n",
              "      </script>\n",
              "    </div>\n",
              "  </div>\n",
              "  "
            ]
          },
          "metadata": {},
          "execution_count": 38
        }
      ]
    },
    {
      "cell_type": "code",
      "source": [
        "with open('logreg_pipeline.dill', 'rb') as in_strm:\n",
        "    pipeline = dill.load(in_strm)"
      ],
      "metadata": {
        "id": "JJrshMK6BLKC"
      },
      "execution_count": 39,
      "outputs": []
    },
    {
      "cell_type": "code",
      "source": [
        "pipeline"
      ],
      "metadata": {
        "id": "39V7S6cYBQ5V",
        "colab": {
          "base_uri": "https://localhost:8080/"
        },
        "outputId": "eb49e500-b8d5-4f50-c516-3e8db58bcecd"
      },
      "execution_count": 40,
      "outputs": [
        {
          "output_type": "execute_result",
          "data": {
            "text/plain": [
              "Pipeline(steps=[('comment_text', FeatureSelector(column='comment_text')),\n",
              "                ('comment_text_tfidf',\n",
              "                 TfidfVectorizer(max_features=10000, stop_words='english',\n",
              "                                 strip_accents='unicode',\n",
              "                                 token_pattern='\\\\w{1,}')),\n",
              "                ('clf', LogisticRegression(C=0.1))])"
            ]
          },
          "metadata": {},
          "execution_count": 40
        }
      ]
    },
    {
      "cell_type": "code",
      "source": [
        "preds = pipeline.predict_proba(X_test)[:, 1]\n",
        "\n",
        "pred_df = pd.DataFrame({'preds': preds})\n",
        "pred_df.to_csv(\"test_predictions.csv\", index=None)"
      ],
      "metadata": {
        "id": "ATCsuSX8BUAI"
      },
      "execution_count": 41,
      "outputs": []
    },
    {
      "cell_type": "code",
      "source": [
        "preds[:10]"
      ],
      "metadata": {
        "id": "9M7lQyIrBXfb",
        "colab": {
          "base_uri": "https://localhost:8080/"
        },
        "outputId": "bf759f05-b1c8-41f8-a031-71dd17dd9480"
      },
      "execution_count": 42,
      "outputs": [
        {
          "output_type": "execute_result",
          "data": {
            "text/plain": [
              "array([0.10218604, 0.0374502 , 0.99745876, 0.11436142, 0.98736012,\n",
              "       0.02526285, 0.07090281, 0.26632446, 0.2491152 , 0.0284733 ])"
            ]
          },
          "metadata": {},
          "execution_count": 42
        }
      ]
    },
    {
      "cell_type": "code",
      "source": [
        "from sklearn.metrics import roc_auc_score, roc_curve, precision_recall_curve\n",
        "from sklearn.metrics import f1_score\n",
        "precision, recall, thresholds = precision_recall_curve(y_test, preds)\n",
        "\n",
        "fscore = (2 * precision * recall) / (precision + recall)\n",
        "# locate the index of the largest f score\n",
        "ix = np.argmax(fscore)\n",
        "print(f'Best Threshold={thresholds[ix]}, F-Score={fscore[ix]:.3f}, Precision={precision[ix]:.3f}, Recall={recall[ix]:.3f}')"
      ],
      "metadata": {
        "id": "5iA4ynpkBm11",
        "colab": {
          "base_uri": "https://localhost:8080/"
        },
        "outputId": "eb2a2716-7bd9-4701-fc1a-1f95b963147c"
      },
      "execution_count": 43,
      "outputs": [
        {
          "output_type": "stream",
          "name": "stdout",
          "text": [
            "Best Threshold=0.19427859889924132, F-Score=0.742, Precision=0.798, Recall=0.694\n"
          ]
        }
      ]
    },
    {
      "cell_type": "markdown",
      "source": [
        "# Step 3 - FLASK"
      ],
      "metadata": {
        "id": "SyZ_nNO2BpIM"
      }
    },
    {
      "cell_type": "code",
      "source": [
        "# !pip install flask-ngrok"
      ],
      "metadata": {
        "id": "hhh8YWBnCvEf"
      },
      "execution_count": 44,
      "outputs": []
    },
    {
      "cell_type": "code",
      "source": [
        "from flask_ngrok import run_with_ngrok\n",
        "from flask import Flask, request, jsonify\n",
        "import pandas as pd"
      ],
      "metadata": {
        "id": "b0esOaekDrop"
      },
      "execution_count": 45,
      "outputs": []
    },
    {
      "cell_type": "markdown",
      "source": [
        "https://dashboard.ngrok.com/get-started/setup"
      ],
      "metadata": {
        "id": "8WwTb1RpIVx0"
      }
    },
    {
      "cell_type": "code",
      "source": [
        "# !wget https://bin.equinox.io/c/4VmDzA7iaHb/ngrok-stable-linux-amd64.tgz\n",
        "# !tar -xvf /content/ngrok-stable-linux-amd64.tgz\n",
        "# !./ngrok authtoken 2848kZxIlkk9m2f6YO2FnhcdPuN_4tHZxtKyiLt3wiwBiBuMh\n",
        "# !./ngrok http 80"
      ],
      "metadata": {
        "id": "A89Z8mtYEXZM"
      },
      "execution_count": 46,
      "outputs": []
    },
    {
      "cell_type": "code",
      "source": [
        "# # Пробный запуск Flask\n",
        "\n",
        "# app = Flask(__name__)\n",
        "# run_with_ngrok(app)  # Start ngrok when app is run\n",
        "\n",
        "# @app.route(\"/a\")\n",
        "# def hello():\n",
        "#     return \"Hello World!\"\n",
        "\n",
        "# if __name__ == '__main__':\n",
        "#     app.run()"
      ],
      "metadata": {
        "id": "InAAw2BuD7u0"
      },
      "execution_count": 47,
      "outputs": []
    },
    {
      "cell_type": "markdown",
      "source": [
        "### **Создаем сервис для обработки запросов к модели**"
      ],
      "metadata": {
        "id": "T5Xt_QISEJnV"
      }
    },
    {
      "cell_type": "code",
      "source": [
        "# Загружаем обученные модели\n",
        "with open('logreg_pipeline.dill', 'rb') as in_strm:\n",
        "    model = dill.load(in_strm)"
      ],
      "metadata": {
        "id": "1SlX84utJmdv"
      },
      "execution_count": 48,
      "outputs": []
    },
    {
      "cell_type": "code",
      "source": [
        "X_test = pd.read_csv(\"X_test.csv\")\n",
        "y_test = pd.read_csv(\"y_test.csv\")"
      ],
      "metadata": {
        "id": "jeaQje8uJ07f"
      },
      "execution_count": 49,
      "outputs": []
    },
    {
      "cell_type": "markdown",
      "source": [
        "Запустить сервис и не глушить его, пока работаем "
      ],
      "metadata": {
        "id": "gzM6Cq2oKByE"
      }
    },
    {
      "cell_type": "code",
      "source": [
        "# Обработчики и запуск Flask\n",
        "app = Flask(__name__)\n",
        "run_with_ngrok(app)  # Start ngrok when app is run\n",
        "\n",
        "\n",
        "@app.route(\"/\", methods=[\"GET\"])\n",
        "def general():\n",
        "    return \"Welcome to prediction process\"\n",
        "\n",
        "\n",
        "@app.route('/predict', methods=['POST'])\n",
        "def predict():\n",
        "    data = {\"success\": False}\n",
        "\n",
        "    # ensure an image was properly uploaded to our endpoint\n",
        "    comment_text = \"\"\n",
        "    request_json = request.get_json()\n",
        "    \n",
        "    if request_json['comment_text']:\n",
        "        comment_text = request_json['comment_text']\n",
        "    \n",
        "    \n",
        "    print(comment_text)  \n",
        "    preds = model.predict_proba(pd.DataFrame({\"comment_text\": [comment_text],\n",
        "                                             }))\n",
        "    data[\"predictions\"] = preds[:, 1][0]\n",
        "    data[\"comment_text\"] = comment_text\n",
        "        # indicate that the request was a success\n",
        "    data[\"success\"] = True\n",
        "    print('OK')\n",
        "\n",
        "        # return the data dictionary as a JSON response\n",
        "    return jsonify(data)\n",
        "\n",
        "\n",
        "if __name__ == '__main__':\n",
        "    app.run()"
      ],
      "metadata": {
        "id": "4MVP0wQjP3OC",
        "colab": {
          "base_uri": "https://localhost:8080/"
        },
        "outputId": "ecf34820-0df7-45db-cc98-f367af98caec"
      },
      "execution_count": 53,
      "outputs": [
        {
          "output_type": "stream",
          "name": "stdout",
          "text": [
            " * Serving Flask app \"__main__\" (lazy loading)\n",
            " * Environment: production\n",
            "\u001b[31m   WARNING: This is a development server. Do not use it in a production deployment.\u001b[0m\n",
            "\u001b[2m   Use a production WSGI server instead.\u001b[0m\n",
            " * Debug mode: off\n"
          ]
        },
        {
          "output_type": "stream",
          "name": "stderr",
          "text": [
            " * Running on http://127.0.0.1:5000/ (Press CTRL+C to quit)\n"
          ]
        },
        {
          "output_type": "stream",
          "name": "stdout",
          "text": [
            " * Running on http://916f-34-123-104-113.ngrok.io\n",
            " * Traffic stats available on http://127.0.0.1:4040\n"
          ]
        }
      ]
    },
    {
      "cell_type": "code",
      "source": [
        ""
      ],
      "metadata": {
        "id": "TY5EOESRWhjk"
      },
      "execution_count": null,
      "outputs": []
    }
  ]
}